{
 "cells": [
  {
   "cell_type": "code",
   "execution_count": 4,
   "metadata": {},
   "outputs": [],
   "source": [
    "import json\n",
    "import requests\n",
    "import pandas as pd\n",
    "from collections import defaultdict"
   ]
  },
  {
   "cell_type": "code",
   "execution_count": 5,
   "metadata": {
    "scrolled": true
   },
   "outputs": [],
   "source": [
    "# Open 'gameplay.json' and load as a json file\n",
    "gameplay_json = open('mappings\\gameplay.json', 'r').read()\n",
    "character_mappings = json.loads(gameplay_json)['characters']\n",
    "\n",
    "# Loop through each character and store the 'typeID' and 'name' attributes\n",
    "character_names = defaultdict(list)\n",
    "for character in character_mappings:\n",
    "    character_names['characterID'].append(character['typeID'])\n",
    "    character_names['nameID'].append(character['name'])\n",
    "\n",
    "# Turn character_names into a DataFrame\n",
    "character_names = pd.DataFrame(character_names)"
   ]
  },
  {
   "cell_type": "code",
   "execution_count": 6,
   "metadata": {},
   "outputs": [],
   "source": [
    "# Open 'English.ini' file and store\n",
    "filename = 'mappings\\English.ini'\n",
    "localization_mapping = {}\n",
    "with open(filename, encoding='utf8') as text:\n",
    "    for line in text:\n",
    "        key, value = line.split('=', 1)\n",
    "        localization_mapping[key] = value[:-1]\n",
    "\n",
    "# Turn localization_mapping into a DataFrame\n",
    "localization_mapping = pd.DataFrame.from_dict(localization_mapping, orient='index').reset_index().rename(columns={0:'name'})"
   ]
  },
  {
   "cell_type": "code",
   "execution_count": 8,
   "metadata": {},
   "outputs": [
    {
     "data": {
      "text/html": [
       "<div>\n",
       "<style scoped>\n",
       "    .dataframe tbody tr th:only-of-type {\n",
       "        vertical-align: middle;\n",
       "    }\n",
       "\n",
       "    .dataframe tbody tr th {\n",
       "        vertical-align: top;\n",
       "    }\n",
       "\n",
       "    .dataframe thead th {\n",
       "        text-align: right;\n",
       "    }\n",
       "</style>\n",
       "<table border=\"1\" class=\"dataframe\">\n",
       "  <thead>\n",
       "    <tr style=\"text-align: right;\">\n",
       "      <th></th>\n",
       "      <th>characterID</th>\n",
       "      <th>name</th>\n",
       "    </tr>\n",
       "  </thead>\n",
       "  <tbody>\n",
       "    <tr>\n",
       "      <th>0</th>\n",
       "      <td>467463015</td>\n",
       "      <td>Lucie</td>\n",
       "    </tr>\n",
       "    <tr>\n",
       "      <th>1</th>\n",
       "      <td>259914044</td>\n",
       "      <td>Sirius</td>\n",
       "    </tr>\n",
       "    <tr>\n",
       "      <th>2</th>\n",
       "      <td>1649551456</td>\n",
       "      <td>Pestilus</td>\n",
       "    </tr>\n",
       "    <tr>\n",
       "      <th>3</th>\n",
       "      <td>543520739</td>\n",
       "      <td>Blossom</td>\n",
       "    </tr>\n",
       "    <tr>\n",
       "      <th>4</th>\n",
       "      <td>842211418</td>\n",
       "      <td>Iva</td>\n",
       "    </tr>\n",
       "  </tbody>\n",
       "</table>\n",
       "</div>"
      ],
      "text/plain": [
       "   characterID      name\n",
       "0    467463015     Lucie\n",
       "1    259914044    Sirius\n",
       "2   1649551456  Pestilus\n",
       "3    543520739   Blossom\n",
       "4    842211418       Iva"
      ]
     },
     "execution_count": 8,
     "metadata": {},
     "output_type": "execute_result"
    }
   ],
   "source": [
    "# Merge the two DataFrames to match 'characterID' to 'name'\n",
    "character_names = character_names.merge(localization_mapping, left_on='nameID', right_on='index')\n",
    "# Drop unnecessary columns\n",
    "character_names = character_names.drop(columns=['nameID', 'index'])\n",
    "\n",
    "# Save data\n",
    "character_names.to_csv('compiled_data\\character_names')\n",
    "character_names.head()"
   ]
  }
 ],
 "metadata": {
  "kernelspec": {
   "display_name": "Python 3",
   "language": "python",
   "name": "python3"
  },
  "language_info": {
   "codemirror_mode": {
    "name": "ipython",
    "version": 3
   },
   "file_extension": ".py",
   "mimetype": "text/x-python",
   "name": "python",
   "nbconvert_exporter": "python",
   "pygments_lexer": "ipython3",
   "version": "3.6.4"
  }
 },
 "nbformat": 4,
 "nbformat_minor": 2
}
