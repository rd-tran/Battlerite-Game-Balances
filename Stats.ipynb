{
 "cells": [
  {
   "cell_type": "markdown",
   "metadata": {},
   "source": [
    "<a id='intro'></a>\n",
    "<div class=\"alert alert-block alert-warning\"> \n",
    "<h1 align=\"center\">Introduction</h3>\n",
    "</div>"
   ]
  },
  {
   "cell_type": "markdown",
   "metadata": {},
   "source": [
    "> Now that I have compiled a dataset of matches from the API, I will perform the necessary steps to compute and visualize the win rates and pick rates of each character.\n",
    "\n",
    "> First, I will perform [Exploratory Data Analysis](#eda) to get a sense of what I am working.\n",
    "\n",
    "> Next, I will compute the [Character Statistics](#char_stats) for each character by format and game mode.\n",
    "\n",
    "> Next, I will perform [Inferential Statistics](#inf) to verify any statistically significant differences in win rates and pick rates between formats (casual vs. ranked) and game modes (2v2 vs. 3v3)."
   ]
  },
  {
   "cell_type": "markdown",
   "metadata": {},
   "source": [
    "<a id='eda'></a>\n",
    "<div class=\"alert alert-block alert-warning\"> \n",
    "<h1 align=\"center\">Exploratory Data Analysis</h3>\n",
    "</div>"
   ]
  },
  {
   "cell_type": "code",
   "execution_count": null,
   "metadata": {},
   "outputs": [],
   "source": [
    "# Import modules\n",
    "import pandas as pd\n",
    "import numpy as np\n",
    "import matplotlib.pyplot as plt"
   ]
  },
  {
   "cell_type": "markdown",
   "metadata": {},
   "source": [
    "<a id='eda1'></a>\n",
    "### Check if the match data includes every character\n",
    "#### Description:\n",
    "> I need to make sure my dataset includes every character, since this is the most important part of the project.\n",
    "\n",
    "#### Procedure:\n",
    "> Using the mappings found in the **character_names** dataframe, I will pair the ID of each character to the corresponding name in the **match_df** dataframe, then ensure that the dataset includes data for each character.\n",
    "1. Assign each row of the match data with the corresponding character name\n",
    "2. Build a function to check for missing characters\n",
    "3. Build a function to check for missing characters for all game modes\n",
    "4. Find missing characters for each format and game mode combination"
   ]
  },
  {
   "cell_type": "markdown",
   "metadata": {},
   "source": [
    "##### 1. Assign each row of the match data with the corresponding character name"
   ]
  },
  {
   "cell_type": "code",
   "execution_count": null,
   "metadata": {},
   "outputs": [],
   "source": [
    "# Load data\n",
    "match_df = pd.read_csv('compiled_data\\match_data', parse_dates=['date'])\n",
    "character_names = pd.read_csv('compiled_data\\character_names')\n",
    "\n",
    "# Merge the data using the character ids\n",
    "match_df = match_df.merge(character_names, left_on='character', right_on='characterID')\n",
    "\n",
    "# Replace the 'character' column with the 'name' column\n",
    "match_df['character'] = match_df['name']\n",
    "\n",
    "# Drop unnecessary columns\n",
    "match_df = match_df.drop(columns=['characterID', 'name'])\n",
    "\n",
    "match_df.head()"
   ]
  },
  {
   "cell_type": "markdown",
   "metadata": {},
   "source": [
    "##### 2. Build a function to check for missing characters"
   ]
  },
  {
   "cell_type": "code",
   "execution_count": null,
   "metadata": {},
   "outputs": [],
   "source": [
    "# Create an array of all the characters\n",
    "all_characters = character_names.name.values\n",
    "\n",
    "def missing_character(df, total_characters=all_characters):\n",
    "    '''Find missing characters'''\n",
    "    # Included characters included in match data\n",
    "    included_characters = df.character.unique()\n",
    "    # Missing characters\n",
    "    missing_characters = set(total_characters).difference(set(included_characters))\n",
    "    \n",
    "    return sorted(missing_characters)"
   ]
  },
  {
   "cell_type": "markdown",
   "metadata": {},
   "source": [
    "##### 3. Build a function to check for missing characters for all game modes"
   ]
  },
  {
   "cell_type": "code",
   "execution_count": null,
   "metadata": {},
   "outputs": [],
   "source": [
    "def missing_game_mode(df, characters, format_str):\n",
    "    '''Find missing characters for each game mode'''   \n",
    "    # Initialize list of data\n",
    "    df_2v2 = df.loc[df.game_mode == '2V2']\n",
    "    df_3v3 = df.loc[df.game_mode == '3V3']\n",
    "    data = [df, df_2v2, df_3v3]\n",
    "    \n",
    "    # Initialize list of game modes\n",
    "    game_modes = ['overall', '2v2', '3v3']\n",
    "    \n",
    "    # Print the format\n",
    "    print('Format : {}'.format(format_str))\n",
    "    \n",
    "    # Loop through each game mode\n",
    "    for i in range(3):\n",
    "        # Print the game mode\n",
    "        print('Game mode: {}'.format(game_modes[i]))\n",
    "        \n",
    "        # Find missing characters\n",
    "        missing = missing_character(data[i], characters)\n",
    "        \n",
    "        # Print the missing characters\n",
    "        if missing:\n",
    "            # Store all missing characters in a string\n",
    "            missing_char_str = ', '.join(sorted(missing))\n",
    "            # Print which characters are missing\n",
    "            print('   Missing (amount): {}'.format(len(missing)))\n",
    "            print('   Missing characters: {}'.format(missing_char_str))\n",
    "        else:\n",
    "            print('   Missing characters: None') \n",
    "    print('')"
   ]
  },
  {
   "cell_type": "markdown",
   "metadata": {},
   "source": [
    "##### 4. Find missing characters for each format and game mode combination"
   ]
  },
  {
   "cell_type": "code",
   "execution_count": null,
   "metadata": {},
   "outputs": [],
   "source": [
    "'''All matches'''\n",
    "missing_game_mode(match_df, all_characters, 'overall')\n",
    "\n",
    "'''Casual matches'''\n",
    "casual = match_df.loc[match_df.ranked == False]\n",
    "missing_game_mode(casual, all_characters, 'casual')\n",
    "\n",
    "'''Ranked matches'''\n",
    "ranked = match_df.loc[match_df.ranked == True]\n",
    "missing_game_mode(ranked, all_characters, 'ranked')\n",
    "\n",
    "'''League matches'''\n",
    "bronze = ranked.loc[ranked.league == 0]\n",
    "silver = ranked.loc[ranked.league == 1]\n",
    "gold = ranked.loc[ranked.league == 2]\n",
    "platinum = ranked.loc[ranked.league == 3]\n",
    "diamond = ranked.loc[ranked.league == 4]\n",
    "champion = ranked.loc[ranked.league == 5]\n",
    "grand_champ = ranked.loc[ranked.league == 6]\n",
    "\n",
    "# Initialize a list of all leagues\n",
    "league_list = [bronze, silver, gold, platinum, diamond, champion, grand_champ]\n",
    "# Initialize a list of all league names\n",
    "league_names = ['bronze', 'silver', 'gold', 'platinum', 'diamond', 'champion', 'grand_champ']\n",
    "for i in range(7):\n",
    "    league = league_list[i]\n",
    "    league_name = league_names[i]\n",
    "    missing_game_mode(league, all_characters, league_name)"
   ]
  },
  {
   "cell_type": "markdown",
   "metadata": {},
   "source": [
    "> It seems the data is too sparse, and is missing a large number of characters in the higher leagues.\n",
    "\n",
    "> I'll have to collect more data, and try again."
   ]
  },
  {
   "cell_type": "markdown",
   "metadata": {},
   "source": [
    "<a id='eda1'></a>\n",
    "### Import newly collected data and ensure\n",
    "#### Description:\n",
    "> I will import my new dataset and ensure that there are less missing characters.\n",
    "\n",
    "#### Procedure:\n",
    "> Using the mappings found in the **character_names** dataframe, I will pair the ID of each character to the corresponding name in the **match_df** dataframe, then ensure that the dataset includes data for each character.\n",
    "1. Assign each row of the match data with the corresponding character name\n",
    "2. Find missing characters for each format and game mode combination"
   ]
  },
  {
   "cell_type": "markdown",
   "metadata": {},
   "source": [
    "##### 1. Assign each row of the match data with the corresponding character name"
   ]
  },
  {
   "cell_type": "code",
   "execution_count": null,
   "metadata": {},
   "outputs": [],
   "source": [
    "# Load data\n",
    "match_df = pd.read_csv('compiled_data\\match_data3', parse_dates=['date'])\n",
    "\n",
    "# Merge the data using the character ids\n",
    "match_df = match_df.merge(character_names, left_on='character', right_on='characterID')\n",
    "\n",
    "# Replace the 'character' column with the 'name' column\n",
    "match_df['character'] = match_df['name']\n",
    "\n",
    "# Drop unnecessary columns\n",
    "match_df = match_df.drop(columns=['characterID', 'name'])\n",
    "\n",
    "match_df.head()"
   ]
  },
  {
   "cell_type": "markdown",
   "metadata": {},
   "source": [
    "##### 2. Find missing characters for each format and game mode combination"
   ]
  },
  {
   "cell_type": "code",
   "execution_count": null,
   "metadata": {},
   "outputs": [],
   "source": [
    "'''All matches'''\n",
    "missing_game_mode(match_df, all_characters, 'overall')\n",
    "\n",
    "'''Casual matches'''\n",
    "casual = match_df.loc[match_df.ranked == False]\n",
    "missing_game_mode(casual, all_characters, 'casual')\n",
    "\n",
    "'''Ranked matches'''\n",
    "ranked = match_df.loc[match_df.ranked == True]\n",
    "missing_game_mode(ranked, all_characters, 'ranked')\n",
    "\n",
    "'''League matches'''\n",
    "bronze = ranked.loc[ranked.league == 0]\n",
    "silver = ranked.loc[ranked.league == 1]\n",
    "gold = ranked.loc[ranked.league == 2]\n",
    "platinum = ranked.loc[ranked.league == 3]\n",
    "diamond = ranked.loc[ranked.league == 4]\n",
    "champion = ranked.loc[ranked.league == 5]\n",
    "grand_champ = ranked.loc[ranked.league == 6]\n",
    "\n",
    "# Initialize a list of all leagues\n",
    "league_list = [bronze, silver, gold, platinum, diamond, champion, grand_champ]\n",
    "# Initialize a list of all league names\n",
    "league_names = ['bronze', 'silver', 'gold', 'platinum', 'diamond', 'champion', 'grand_champ']\n",
    "for i in range(7):\n",
    "    league = league_list[i]\n",
    "    league_name = league_names[i]\n",
    "    missing_game_mode(league, all_characters, league_name)"
   ]
  },
  {
   "cell_type": "markdown",
   "metadata": {},
   "source": [
    "> Great! Among all the format and game mode combinations, there is only one missing character, which is good enough to being the analysis."
   ]
  },
  {
   "cell_type": "markdown",
   "metadata": {},
   "source": [
    "<a id='char_stats'></a>\n",
    "<div class=\"alert alert-block alert-warning\"> \n",
    "<h1 align=\"center\">Character Statistics</h3>\n",
    "</div>"
   ]
  },
  {
   "cell_type": "markdown",
   "metadata": {},
   "source": [
    "<a id='char_stats1'></a>\n",
    "### Win rates\n",
    "#### Description:\n",
    "> I will compute the win rates for each character by format and game mode.\n",
    "\n",
    "#### Procedure:\n",
    "> \n",
    "1. Build a function to compute the win rates\n",
    "2. Compute the win rates for each format and game mode combination"
   ]
  },
  {
   "cell_type": "markdown",
   "metadata": {},
   "source": [
    "##### 1. Build a function to compute the win rates"
   ]
  },
  {
   "cell_type": "code",
   "execution_count": null,
   "metadata": {},
   "outputs": [],
   "source": [
    "def win_rates(df, format_str, mode_str, check_missing=True):\n",
    "    '''\n",
    "    Returns the win rates of the input DataFrame\n",
    "    '''\n",
    "    # Find the win rates\n",
    "    temp = df.groupby('character').win.sum() / df.groupby('character').win.count()\n",
    "\n",
    "    # Rename 'win' column to 'win_rate'\n",
    "    win_rates = pd.DataFrame(temp).reset_index().rename(columns={'win':'win_rate'})\n",
    "    \n",
    "    if check_missing:\n",
    "        # Check for missing characters\n",
    "        missing = missing_character(df)\n",
    "        if missing:\n",
    "            # Create a dataframe of missing characters\n",
    "            df_missing = pd.DataFrame({'character':missing, 'win_rate':[np.nan]*len(missing)})\n",
    "            # Append missing characters\n",
    "            win_rates = win_rates.append(df_missing, ignore_index=True)\n",
    "            # Sort by 'character' column\n",
    "            win_rates.sort_values(by=['character'])\n",
    "\n",
    "    # Add 'format' and 'game_mode' column\n",
    "    win_rates['format'] = format_str\n",
    "    win_rates['game_mode'] = mode_str\n",
    "    \n",
    "    return win_rates"
   ]
  },
  {
   "cell_type": "markdown",
   "metadata": {},
   "source": [
    "##### 2. Compute the win rates for each format and game mode combination"
   ]
  },
  {
   "cell_type": "code",
   "execution_count": null,
   "metadata": {},
   "outputs": [],
   "source": [
    "def game_mode_win_rates(df, format_str, check_missing=True):\n",
    "    output = win_rates(df, format_str, 'overall', check_missing)\n",
    "    game_modes = ['2V2', '3V3']\n",
    "    for game_mode in game_modes:\n",
    "        df_game_mode = df.loc[df.game_mode ==  game_mode]\n",
    "        temp = win_rates(df_game_mode, format_str, game_mode, check_missing)\n",
    "        output = pd.concat([output, temp], ignore_index=True)\n",
    "    \n",
    "    return output\n",
    "\n",
    "'''Overall win rates'''\n",
    "overall_win_rates = game_mode_win_rates(match_df, 'overall')\n",
    "\n",
    "'''Casual win rates'''\n",
    "casual_win_rates = game_mode_win_rates(casual, 'casual')\n",
    "\n",
    "'''Ranked win rates'''\n",
    "ranked_win_rates = game_mode_win_rates(ranked, 'ranked')\n",
    "\n",
    "'''League win rates'''\n",
    "# Initialize a list of all leagues\n",
    "league_list = [bronze, silver, gold, platinum, diamond, champion, grand_champ]\n",
    "# Initialize a list of all league names\n",
    "league_names = ['bronze', 'silver', 'gold', 'platinum', 'diamond', 'champion', 'grand_champ']\n",
    "# Intitalize empty dataframe to store win rates for each league\n",
    "league_win_rates = pd.DataFrame()\n",
    "for i in range(7):\n",
    "    league = league_list[i]\n",
    "    league_name = league_names[i]\n",
    "    temp = game_mode_win_rates(league, league_name)\n",
    "    league_win_rates = pd.concat([league_win_rates, temp], ignore_index=True)\n",
    "\n",
    "'''Combine all win rates'''\n",
    "combined_win_rates = pd.concat([overall_win_rates, casual_win_rates, ranked_win_rates, league_win_rates], ignore_index=True)\n",
    "combined_win_rates.to_csv('compiled_data\\combined_win_rates', index=False)"
   ]
  },
  {
   "cell_type": "markdown",
   "metadata": {},
   "source": [
    "<a id='char_stats2'></a>\n",
    "### Pick rates\n",
    "#### Description:\n",
    "> I will compute the pick rates for each character by format and game mode.\n",
    "\n",
    "#### Procedure:\n",
    "> \n",
    "1. Build a function to compute the pick rates\n",
    "2. Compute the pick rates for each format and game mode combination"
   ]
  },
  {
   "cell_type": "markdown",
   "metadata": {},
   "source": [
    "##### 1. Build a function to compute the pick rates"
   ]
  },
  {
   "cell_type": "code",
   "execution_count": null,
   "metadata": {},
   "outputs": [],
   "source": [
    "def pick_rates(df, format_str, mode_str, check_missing=True):\n",
    "    '''\n",
    "    Returns the win rates of the input DataFrame\n",
    "    '''\n",
    "    # Find the overall pick rates\n",
    "    temp = df.groupby('character').win.count() / df.win.count()\n",
    "\n",
    "    # Rename 'win' column to 'pick_rate\n",
    "    pick_rates = pd.DataFrame(temp).reset_index().rename(columns={'win':'pick_rate'})\n",
    "    \n",
    "    if check_missing:\n",
    "        # Check for missing characters\n",
    "        missing = missing_character(df)\n",
    "        if missing:\n",
    "            # Create a dataframe of missing characters\n",
    "            df_missing = pd.DataFrame({'character':missing, 'pick_rate':[np.nan]*len(missing)})\n",
    "            # Append missing characters\n",
    "            pick_rates = pick_rates.append(df_missing, ignore_index=True)\n",
    "            # Sort by 'character' column\n",
    "            pick_rates.sort_values(by=['character'])\n",
    "\n",
    "    # Add 'format' and 'game_mode' column\n",
    "    pick_rates['format'] = format_str\n",
    "    pick_rates['game_mode'] = mode_str\n",
    "    \n",
    "    return pick_rates"
   ]
  },
  {
   "cell_type": "markdown",
   "metadata": {},
   "source": [
    "##### 2. Compute the pick rates for each format and game mode combination"
   ]
  },
  {
   "cell_type": "code",
   "execution_count": null,
   "metadata": {},
   "outputs": [],
   "source": [
    "def game_mode_pick_rates(df, format_str, check_missing=True):\n",
    "    output = pick_rates(df, format_str, 'overall', check_missing)\n",
    "    game_modes = ['2V2', '3V3']\n",
    "    for game_mode in game_modes:\n",
    "        df_game_mode = df.loc[df.game_mode ==  game_mode]\n",
    "        temp = pick_rates(df_game_mode, format_str, game_mode, check_missing)\n",
    "        output = pd.concat([output, temp], ignore_index=True)\n",
    "    \n",
    "    return output\n",
    "\n",
    "'''Overall pick rates'''\n",
    "overall_pick_rates = game_mode_pick_rates(match_df, 'overall')\n",
    "\n",
    "'''Casual pick rates'''\n",
    "casual_pick_rates = game_mode_pick_rates(casual, 'casual')\n",
    "\n",
    "'''Ranked pick rates'''\n",
    "ranked_pick_rates = game_mode_pick_rates(ranked, 'ranked')\n",
    "\n",
    "'''League pick rates'''\n",
    "# Initialize a list of all leagues\n",
    "league_list = [bronze, silver, gold, platinum, diamond, champion, grand_champ]\n",
    "# Initialize a list of all league names\n",
    "league_names = ['bronze', 'silver', 'gold', 'platinum', 'diamond', 'champion', 'grand_champ']\n",
    "# Intitalize empty dataframe to store win rates for each league\n",
    "league_pick_rates = pd.DataFrame()\n",
    "for i in range(7):\n",
    "    league = league_list[i]\n",
    "    league_name = league_names[i]\n",
    "    temp = game_mode_pick_rates(league, league_name)\n",
    "    league_pick_rates = pd.concat([league_pick_rates, temp], ignore_index=True)\n",
    "\n",
    "'''Combine all pick rates'''\n",
    "combined_pick_rates = pd.concat([overall_pick_rates, casual_pick_rates, ranked_pick_rates, league_pick_rates], ignore_index=True)\n",
    "combined_pick_rates.to_csv('compiled_data\\combined_pick_rates', index=False)"
   ]
  },
  {
   "cell_type": "markdown",
   "metadata": {},
   "source": [
    "<a id='char_stats3'></a>\n",
    "### View statistics in a table\n",
    "#### Description:\n",
    "> I will display the statistics in a table to easily view the win rates and pick rates of each character by format and game mode.\n",
    "\n",
    "#### Procedure:\n",
    "> Create separate tables to view the win rates and pick rates, and then create a combined table to view both statistics.\n",
    "1. Create a win rates table\n",
    "2. Create a pick rates table\n",
    "3. Create a combined table"
   ]
  },
  {
   "cell_type": "markdown",
   "metadata": {},
   "source": [
    "##### 1. Create a win rates table"
   ]
  },
  {
   "cell_type": "code",
   "execution_count": null,
   "metadata": {},
   "outputs": [],
   "source": [
    "# Group by 'character', 'game_mode', and 'format and get pick rates\n",
    "win_rates_table = combined_win_rates.groupby(['character', 'game_mode', 'format']).agg({'win_rate':'unique'})\n",
    "# Get pick rate values\n",
    "win_rates_table = win_rates_table.win_rate.apply(lambda x: x[0])\n",
    "# Convert to table for easy viewing\n",
    "win_rates_table = win_rates_table.unstack(level=2)\n",
    "# Rearrange columns\n",
    "columns = ['overall', 'casual', 'ranked', 'bronze', 'silver', 'gold', 'platinum', 'diamond', 'champion', 'grand_champ']\n",
    "win_rates_table = win_rates_table.loc[:, columns]\n",
    "# Add 'win_rate' level to the columns\n",
    "win_rates_table.columns = pd.MultiIndex.from_product([['win_rate'], win_rates_table.columns], names=['stat', 'format'])\n",
    "\n",
    "win_rates_table.head()"
   ]
  },
  {
   "cell_type": "markdown",
   "metadata": {},
   "source": [
    "##### 2. Create a pick rates table"
   ]
  },
  {
   "cell_type": "code",
   "execution_count": null,
   "metadata": {},
   "outputs": [],
   "source": [
    "# Group by 'character', 'game_mode', and 'format and get pick rates\n",
    "pick_rates_table = combined_pick_rates.groupby(['character', 'game_mode', 'format']).agg({'pick_rate':'unique'})\n",
    "# Get pick rate values\n",
    "pick_rates_table = pick_rates_table.pick_rate.apply(lambda x: x[0])\n",
    "# Convert to table for easy viewing\n",
    "pick_rates_table = pick_rates_table.unstack(level=2)\n",
    "# Rearrange columns\n",
    "columns = ['overall', 'casual', 'ranked', 'bronze', 'silver', 'gold', 'platinum', 'diamond', 'champion', 'grand_champ']\n",
    "pick_rates_table = pick_rates_table.loc[:, columns]\n",
    "# Add 'pick_rate' level to the columns\n",
    "pick_rates_table.columns = pd.MultiIndex.from_product([['pick_rate'], pick_rates_table.columns], names=['stat', 'format'])\n",
    "\n",
    "pick_rates_table.head()"
   ]
  },
  {
   "cell_type": "markdown",
   "metadata": {},
   "source": [
    "##### 3. Create a combined table"
   ]
  },
  {
   "cell_type": "code",
   "execution_count": null,
   "metadata": {
    "scrolled": true
   },
   "outputs": [],
   "source": [
    "statistics_table = win_rates_table.merge(pick_rates_table, left_index=True, right_index=True)\n",
    "statistics_table.to_csv('compiled_data/statistics_table', index=False)\n",
    "\n",
    "statistics_table.head()"
   ]
  },
  {
   "cell_type": "markdown",
   "metadata": {},
   "source": [
    "<a id='inf'></a>\n",
    "<div class=\"alert alert-block alert-warning\"> \n",
    "<h1 align=\"center\">Inferential Statistics</h3>\n",
    "</div>"
   ]
  },
  {
   "cell_type": "markdown",
   "metadata": {},
   "source": [
    "<a id='inf1'></a>\n",
    "### Create functions\n",
    "#### Description:\n",
    "> I will create functions to perform inferenctial statistics. The first function I need to create is the **difference** function to compute the difference between a character's statistic for two datasets that I'd like to compare. The second function I need to create is the **draw_bs_pairs** function to iteratively create bootstrap samples of two datasets, run the **difference** function on the samples, and store the results.\n",
    "\n",
    "#### Procedure:\n",
    "> Create a **difference** function, and a **draw_bs_pairs** function.\n",
    "1. Create **difference** function\n",
    "  1. Find all entries of each dataset that includes the desired character\n",
    "  2. Compute the desired statistic for each dataset\n",
    "  3. Compute the difference between the two datasets\n",
    "2. Create **draw_bs_pairs** function\n",
    "  1. Concatenate the two datasets\n",
    "  2. Sample the concatenated dataset with replacement\n",
    "  3. Split the dataset to get two samples of appropriate size\n",
    "  4. Compute and store the difference between the two samples\n",
    "  5. Repeat"
   ]
  },
  {
   "cell_type": "markdown",
   "metadata": {},
   "source": [
    "##### 1. Create **difference** function"
   ]
  },
  {
   "cell_type": "code",
   "execution_count": null,
   "metadata": {},
   "outputs": [],
   "source": [
    "def difference(data1, data2, character, stat):\n",
    "    character_data1 = data1.loc[data1.character == character]\n",
    "    character_data2 = data2.loc[data2.character == character]\n",
    "    if stat == 'win':\n",
    "        stat1 = character_data1.win.sum() / character_data1.win.count()\n",
    "        stat2 = character_data2.win.sum() / character_data2.win.count()\n",
    "    elif stat == 'pick':\n",
    "        stat1 = character_data1.win.count() / data1.win.count()\n",
    "        stat2 = character_data2.win.count() / data2.win.count()\n",
    "    \n",
    "    return stat1 - stat2"
   ]
  },
  {
   "cell_type": "markdown",
   "metadata": {},
   "source": [
    "##### 2. Create **draw_bs_pairs** function"
   ]
  },
  {
   "cell_type": "code",
   "execution_count": null,
   "metadata": {},
   "outputs": [],
   "source": [
    "def draw_bs_pairs(data1, data2, character, stat, size=1, func=difference):\n",
    "    \"\"\"Draw bootstrap replicates.\"\"\"\n",
    "\n",
    "    # Initialize array of replicates: bs_replicates\n",
    "    bs_replicates = np.empty(size)\n",
    "    \n",
    "    # Concatenate data\n",
    "    concatenated = pd.concat([data1,data2], ignore_index=True)\n",
    "    \n",
    "    # Generate replicates\n",
    "    for i in range(size):\n",
    "        # Set random seed\n",
    "        np.random.seed(seed=i)\n",
    "        \n",
    "        # Bootstrap indices\n",
    "        indices = np.random.choice(concatenated.index, size=len(concatenated))\n",
    "        indices1 = indices[:len(data1)]\n",
    "        indices2 = indices[len(data1):]\n",
    "        \n",
    "        # Generate bootstrap samples\n",
    "        bs1 = concatenated.iloc[indices1]\n",
    "        bs2 = concatenated.iloc[indices2]\n",
    "        bs_replicates[i] = func(bs1,bs2,character,stat)\n",
    "    \n",
    "    return bs_replicates"
   ]
  },
  {
   "cell_type": "markdown",
   "metadata": {},
   "source": [
    "<a id='inf1'></a>\n",
    "### Hypothesis tests\n",
    "#### Description:\n",
    "> I will perform several hypothesis tests to determine if there is a statistical significance between the stats of formats and game modes. I believe the ranked format is the most important because it is played by serious players who care about the game, so it should be no surprise that the game should be balanced around the ranked format. With that said, I will compare the statistics of ranked 2v2 matches to ranked 3v3 matches to determine statistical significance between game modes, and then compare the statistics of bronze league matches to champion league matches to determine statistical significance between leagues.\n",
    "\n",
    "#### Procedure:\n",
    "> Create a **difference** function, a **draw_perm_reps** function, and a **draw_bs_pairs** function.\n",
    "1. Game modes\n",
    "  1. Loop through each character\n",
    "  2. Compare the statistics of ranked 2v2 matches to ranked 3v3 matches\n",
    "  3. Compute the p-values for each character\n",
    "2. Leagues\n",
    "  1. Loop through each character\n",
    "  2. Compare the statistics of bronze league matches to champion league matches\n",
    "  3. Compute the p-values for each character"
   ]
  },
  {
   "cell_type": "markdown",
   "metadata": {},
   "source": [
    "##### 1. Game modes"
   ]
  },
  {
   "cell_type": "code",
   "execution_count": null,
   "metadata": {},
   "outputs": [],
   "source": [
    "data1 = ranked.loc[ranked.game_mode=='2V2']\n",
    "data2 = ranked.loc[ranked.game_mode=='3V3']\n",
    "count = 0\n",
    "for character in sorted(all_characters):\n",
    "    empirical_diff = difference(data1, data2, character, 'win')\n",
    "    replicates = draw_bs_pairs(data1, data2, character, 'win', 1000)\n",
    "    p = np.sum(replicates >= empirical_diff) / len(replicates)\n",
    "    if p > 0.5:\n",
    "        p = 1-p\n",
    "    if p < 0.151:\n",
    "        count += 1\n",
    "    print('{} win rate p-value: {}'.format(character,p))\n",
    "\n",
    "print('Number of characters with statistically significant p-values:', count)\n",
    "print('Percentage of characters with statistically significance:', count/27)"
   ]
  },
  {
   "cell_type": "code",
   "execution_count": null,
   "metadata": {},
   "outputs": [],
   "source": [
    "data1 = ranked.loc[ranked.game_mode=='2V2']\n",
    "data2 = ranked.loc[ranked.game_mode=='3V3']\n",
    "count = 0\n",
    "for character in sorted(all_characters):\n",
    "    empirical_diff = difference(data1, data2, character, 'pick')\n",
    "    replicates = draw_bs_pairs(data1, data2, character, 'pick', 1000)\n",
    "    p = np.sum(replicates >= empirical_diff) / len(replicates)\n",
    "    if p > 0.5:\n",
    "        p = 1-p\n",
    "    if p < 0.151:\n",
    "        count += 1\n",
    "    print('{} pick rate p-value: {}'.format(character,p))\n",
    "\n",
    "print('Number of characters with statistically significant p-values:', count)\n",
    "print('Percentage of characters with statistically significance:', count/27)"
   ]
  },
  {
   "cell_type": "markdown",
   "metadata": {},
   "source": [
    "> 40% of the characters have significantly different win rates between 2v2 and 3v3 game modes, while 78% of the characters have significantly different pick rates between 2v2 and 3v3 game modes. Both of these numbers are adequately high for me to determine that there is indeed a difference between 2v2 and 3v3 game modes. This means that game developers must take game modes into account when they implement balance changes."
   ]
  },
  {
   "cell_type": "markdown",
   "metadata": {},
   "source": [
    "##### 2. Leagues"
   ]
  },
  {
   "cell_type": "code",
   "execution_count": null,
   "metadata": {},
   "outputs": [],
   "source": [
    "data1 = ranked.loc[ranked.league==0]\n",
    "data2 = ranked.loc[ranked.league==5]\n",
    "count = 0\n",
    "for character in sorted(all_characters):\n",
    "    empirical_diff = difference(data1, data2, character, 'win')\n",
    "    replicates = draw_bs_pairs(data1, data2, character, 'win', 1000)\n",
    "    p = np.sum(replicates >= empirical_diff) / len(replicates)\n",
    "    if p > 0.5:\n",
    "        p = 1-p\n",
    "    if p < 0.151:\n",
    "        count += 1\n",
    "    print('{} win rate p-value: {}'.format(character,p))\n",
    "\n",
    "print('Number of characters with statistically significant p-values:', count)\n",
    "print('Percentage of characters with statistically significance:', count/27)"
   ]
  },
  {
   "cell_type": "code",
   "execution_count": null,
   "metadata": {},
   "outputs": [],
   "source": [
    "data1 = ranked.loc[ranked.league==0]\n",
    "data2 = ranked.loc[ranked.league==5]\n",
    "count = 0\n",
    "for character in sorted(all_characters):\n",
    "    empirical_diff = difference(data1, data2, character, 'pick')\n",
    "    replicates = draw_bs_pairs(data1, data2, character, 'pick', 1000)\n",
    "    p = np.sum(replicates >= empirical_diff) / len(replicates)\n",
    "    if p > 0.5:\n",
    "        p = 1-p\n",
    "    if p < 0.151:\n",
    "        count += 1\n",
    "    print('{} pick rate p-value: {}'.format(character,p))\n",
    "\n",
    "print('Number of characters with statistically significant p-values:', count)\n",
    "print('Percentage of characters with statistically significance:', count/27)"
   ]
  },
  {
   "cell_type": "markdown",
   "metadata": {},
   "source": [
    "> 48% of the characters have significantly different win rates between bronze league and champion league, while 96% of the characters have significantly different pick rates between bronze league and champion league. Both of these numbers are adequately high for me to determine that there is indeed a difference between lower level players, and higher level players. This means that game developers must take player level into account when they implement balance changes."
   ]
  },
  {
   "cell_type": "markdown",
   "metadata": {},
   "source": [
    "<a id='monitor'></a>\n",
    "<div class=\"alert alert-block alert-warning\"> \n",
    "<h1 align=\"center\">Monitoring Changes</h3>\n",
    "</div>"
   ]
  },
  {
   "cell_type": "markdown",
   "metadata": {},
   "source": [
    "<a id='monitor1'></a>\n",
    "### \n",
    "#### Description:\n",
    "> \n",
    "#### Procedure:\n",
    "> \n",
    "1. "
   ]
  },
  {
   "cell_type": "code",
   "execution_count": null,
   "metadata": {},
   "outputs": [],
   "source": [
    "bakko = match_df.loc[match_df.character=='Bakko']\n",
    "bakko_casual = bakko.loc[bakko.ranked == False]\n",
    "bakko_ranked = bakko.loc[bakko.ranked == True]\n",
    "bakko_bronze = bakko_ranked.loc[bakko_ranked.league == 0]\n",
    "bakko_silver = bakko_ranked.loc[bakko_ranked.league == 1]\n",
    "bakko_gold = bakko_ranked.loc[bakko_ranked.league == 2]\n",
    "bakko_platinum = bakko_ranked.loc[bakko_ranked.league == 3]\n",
    "bakko_diamond = bakko_ranked.loc[bakko_ranked.league == 4]\n",
    "bakko_champion = bakko_ranked.loc[bakko_ranked.league == 5]\n",
    "bakko_grand_champ = bakko_ranked.loc[bakko_ranked.league == 6]\n",
    "\n",
    "'''Overall win rates'''\n",
    "overall_win_rates = game_mode_win_rates(bakko, 'overall', False)\n",
    "\n",
    "'''Casual win rates'''\n",
    "casual_win_rates = game_mode_win_rates(bakko_casual, 'casual', False)\n",
    "\n",
    "'''Ranked win rates'''\n",
    "ranked_win_rates = game_mode_win_rates(bakko_ranked, 'ranked', False)\n",
    "\n",
    "'''League win rates'''\n",
    "# Initialize a list of all leagues\n",
    "league_list = [bakko_bronze, bakko_silver, bakko_gold, bakko_platinum, bakko_diamond, bakko_champion, bakko_grand_champ]\n",
    "# Initialize a list of all league names\n",
    "league_names = ['bronze', 'silver', 'gold', 'platinum', 'diamond', 'champion', 'grand_champ']\n",
    "# Intitalize empty dataframe to store win rates for each league\n",
    "league_win_rates = pd.DataFrame()\n",
    "for i in range(7):\n",
    "    league = league_list[i]\n",
    "    league_name = league_names[i]\n",
    "    temp = game_mode_win_rates(league, league_name, False)\n",
    "    league_win_rates = pd.concat([league_win_rates, temp], ignore_index=True)"
   ]
  },
  {
   "cell_type": "code",
   "execution_count": null,
   "metadata": {},
   "outputs": [],
   "source": [
    "'''x_values = date\n",
    "y_values = overall_win_rates.win_rate\n",
    "legend = overall_win_rates.format + ' - ' + overall_win_rates.game_mode'''"
   ]
  }
 ],
 "metadata": {
  "kernelspec": {
   "display_name": "Python 3",
   "language": "python",
   "name": "python3"
  },
  "language_info": {
   "codemirror_mode": {
    "name": "ipython",
    "version": 3
   },
   "file_extension": ".py",
   "mimetype": "text/x-python",
   "name": "python",
   "nbconvert_exporter": "python",
   "pygments_lexer": "ipython3",
   "version": "3.6.4"
  }
 },
 "nbformat": 4,
 "nbformat_minor": 2
}
